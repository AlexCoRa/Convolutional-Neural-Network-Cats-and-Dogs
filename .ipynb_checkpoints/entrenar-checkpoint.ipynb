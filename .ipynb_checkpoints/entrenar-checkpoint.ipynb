{
 "cells": [
  {
   "cell_type": "code",
   "execution_count": 1,
   "id": "indie-bulletin",
   "metadata": {},
   "outputs": [],
   "source": [
    "import sys\n",
    "import os\n",
    "import tensorflow as tf\n",
    "config = tf.compat.v1.ConfigProto()\n",
    "config.gpu_options.allow_growth = True\n",
    "tf.compat.v1.keras.backend.set_session(tf.compat.v1.Session(config=config))\n",
    "from tensorflow.python.keras.preprocessing.image import ImageDataGenerator\n",
    "from tensorflow.keras import optimizers\n",
    "from tensorflow.python.keras.models import Sequential\n",
    "from tensorflow.python.keras.layers import Dropout, Flatten, Dense, Activation\n",
    "from tensorflow.python.keras.layers import Convolution2D, MaxPooling2D\n",
    "from tensorflow.python.keras import backend as K"
   ]
  },
  {
   "cell_type": "markdown",
   "id": "adjustable-complaint",
   "metadata": {},
   "source": [
    "## Parametros"
   ]
  },
  {
   "cell_type": "code",
   "execution_count": 2,
   "id": "relative-peoples",
   "metadata": {},
   "outputs": [],
   "source": [
    "K.clear_session()\n",
    "\n",
    "data_entrenamiento = './data/entrenamiento'\n",
    "data_validacion = './data/validacion'\n",
    "\n",
    "##numero de veces que vamos a iterar el set de datos\n",
    "epocas = 20\n",
    "##tamaño que vamos a procesar las imagenes\n",
    "altura, longitud = 150, 150\n",
    "##el numero de imagenes que vamos a mandar a nuestra pc a procesar en cada uno de los pasos\n",
    "batch_size = 32\n",
    "##numero de veces que se va a procesar los datos en cada una de las epocas\n",
    "pasos = 1000\n",
    "pasos_validacion = 300\n",
    "##numero de filtros que vamos a aplicar en cada convolucion (profundidad)\n",
    "filtrosConv1 = 32\n",
    "filtrosConv2 = 64\n",
    "##tamaño del filtro que tendra por cada convolucion (altura,longitud)\n",
    "tamano_filtro1 = (3,3)\n",
    "tamano_filtro2 = (2,2)\n",
    "##tamaño del filtro que vamos a usar en nuestro max-pooling\n",
    "tamano_pool = (2,2)\n",
    "##gato, perro\n",
    "clases = 2\n",
    "##learning rate es que tan grande van a ser los ajusten nuestra red neuronal para acercarse a una solucion\n",
    "lr = 0.0004"
   ]
  },
  {
   "cell_type": "markdown",
   "id": "amino-scottish",
   "metadata": {},
   "source": [
    "## Pre procesamiento de imagenes"
   ]
  },
  {
   "cell_type": "code",
   "execution_count": 3,
   "id": "mineral-weapon",
   "metadata": {},
   "outputs": [
    {
     "name": "stdout",
     "output_type": "stream",
     "text": [
      "Found 980 images belonging to 2 classes.\n",
      "Found 2023 images belonging to 2 classes.\n"
     ]
    }
   ],
   "source": [
    "## (rescalar, inclinar, zoom, invertir)\n",
    "entrenamiento_datagen = ImageDataGenerator(\n",
    "    rescale=1./255,\n",
    "    shear_range=0.2,\n",
    "    zoom_range=0.2,\n",
    "    horizontal_flip=True\n",
    ")\n",
    "test_datagen = ImageDataGenerator(rescale=1. / 255)\n",
    "\n",
    "# generar y procesar las imagenes para entrenar la red neuronal\n",
    "\n",
    "entrenamiento_generador = entrenamiento_datagen.flow_from_directory(\n",
    "    data_entrenamiento,\n",
    "    target_size=(altura, longitud),\n",
    "    batch_size=batch_size,\n",
    "    class_mode='categorical')\n",
    "\n",
    "validacion_generador = test_datagen.flow_from_directory(\n",
    "    data_validacion,\n",
    "    target_size=(altura, longitud),\n",
    "    batch_size=batch_size,\n",
    "    class_mode='categorical')"
   ]
  },
  {
   "cell_type": "markdown",
   "id": "thirty-treaty",
   "metadata": {},
   "source": [
    "## Crear la red neuronal convolucional - CNN -(convolutional neural network)"
   ]
  },
  {
   "cell_type": "code",
   "execution_count": 4,
   "id": "empty-atlantic",
   "metadata": {},
   "outputs": [
    {
     "name": "stdout",
     "output_type": "stream",
     "text": [
      "Epoch 1/20\n",
      "31/31 [==============================] - 8s 191ms/step - loss: 1.3673 - accuracy: 0.5115 - val_loss: 0.6763 - val_accuracy: 0.5382\n",
      "Epoch 2/20\n",
      "31/31 [==============================] - 5s 175ms/step - loss: 0.6825 - accuracy: 0.5358 - val_loss: 0.6623 - val_accuracy: 0.6007\n",
      "Epoch 3/20\n",
      "31/31 [==============================] - 5s 175ms/step - loss: 0.6524 - accuracy: 0.6150 - val_loss: 0.6769 - val_accuracy: 0.5694\n",
      "Epoch 4/20\n",
      "31/31 [==============================] - 5s 174ms/step - loss: 0.6584 - accuracy: 0.6157 - val_loss: 0.6282 - val_accuracy: 0.6632\n",
      "Epoch 5/20\n",
      "31/31 [==============================] - 5s 176ms/step - loss: 0.6145 - accuracy: 0.6789 - val_loss: 0.6691 - val_accuracy: 0.5833\n",
      "Epoch 6/20\n",
      "31/31 [==============================] - 5s 176ms/step - loss: 0.5946 - accuracy: 0.6960 - val_loss: 0.5775 - val_accuracy: 0.7153\n",
      "Epoch 7/20\n",
      "31/31 [==============================] - 5s 175ms/step - loss: 0.5885 - accuracy: 0.6918 - val_loss: 0.6195 - val_accuracy: 0.7014\n",
      "Epoch 8/20\n",
      "31/31 [==============================] - 6s 177ms/step - loss: 0.5625 - accuracy: 0.7000 - val_loss: 0.6102 - val_accuracy: 0.7153\n",
      "Epoch 9/20\n",
      "31/31 [==============================] - 6s 179ms/step - loss: 0.5370 - accuracy: 0.7023 - val_loss: 0.5686 - val_accuracy: 0.7153\n",
      "Epoch 10/20\n",
      "31/31 [==============================] - 5s 176ms/step - loss: 0.5251 - accuracy: 0.7365 - val_loss: 0.5734 - val_accuracy: 0.7188\n",
      "Epoch 11/20\n",
      "31/31 [==============================] - 5s 175ms/step - loss: 0.4945 - accuracy: 0.7618 - val_loss: 0.5907 - val_accuracy: 0.7535\n",
      "Epoch 12/20\n",
      "31/31 [==============================] - 5s 176ms/step - loss: 0.5193 - accuracy: 0.7417 - val_loss: 0.5451 - val_accuracy: 0.7361\n",
      "Epoch 13/20\n",
      "31/31 [==============================] - 5s 176ms/step - loss: 0.4891 - accuracy: 0.7671 - val_loss: 0.5087 - val_accuracy: 0.7604\n",
      "Epoch 14/20\n",
      "31/31 [==============================] - 5s 176ms/step - loss: 0.4805 - accuracy: 0.7732 - val_loss: 0.6552 - val_accuracy: 0.6528\n",
      "Epoch 15/20\n",
      "31/31 [==============================] - 5s 176ms/step - loss: 0.4601 - accuracy: 0.7863 - val_loss: 0.5888 - val_accuracy: 0.6840\n",
      "Epoch 16/20\n",
      "31/31 [==============================] - 6s 177ms/step - loss: 0.4293 - accuracy: 0.8082 - val_loss: 0.5527 - val_accuracy: 0.7014\n",
      "Epoch 17/20\n",
      "31/31 [==============================] - 5s 177ms/step - loss: 0.4068 - accuracy: 0.7966 - val_loss: 0.6541 - val_accuracy: 0.6424\n",
      "Epoch 18/20\n",
      "31/31 [==============================] - 5s 175ms/step - loss: 0.4711 - accuracy: 0.7921 - val_loss: 0.5965 - val_accuracy: 0.7083\n",
      "Epoch 19/20\n",
      "31/31 [==============================] - 5s 176ms/step - loss: 0.4041 - accuracy: 0.8261 - val_loss: 0.6069 - val_accuracy: 0.7222\n",
      "Epoch 20/20\n",
      "31/31 [==============================] - 6s 178ms/step - loss: 0.3913 - accuracy: 0.8397 - val_loss: 0.5764 - val_accuracy: 0.7292\n"
     ]
    },
    {
     "data": {
      "text/plain": [
       "<tensorflow.python.keras.callbacks.History at 0x7f7430563b50>"
      ]
     },
     "execution_count": 4,
     "metadata": {},
     "output_type": "execute_result"
    }
   ],
   "source": [
    "##nuestra red será secuencial, varias capas apiladas entre ellas\n",
    "cnn=Sequential()\n",
    "\n",
    "##primera capa\n",
    "cnn.add(Convolution2D(filtrosConv1, tamano_filtro1, padding='same', \n",
    "                      input_shape=(altura,longitud,3), activation='relu'))\n",
    "##capa pooling\n",
    "cnn.add(MaxPooling2D(pool_size=tamano_pool))\n",
    "\n",
    "##segunda capa\n",
    "cnn.add(Convolution2D(filtrosConv2, tamano_filtro2, padding='same', activation='relu'))\n",
    "##capa pooling\n",
    "cnn.add(MaxPooling2D(pool_size=tamano_pool))\n",
    "\n",
    "#empezar clasificacion\n",
    "#aplanar informacion, una dimension que contenga toda la informacion de nuestra imagen\n",
    "cnn.add(Flatten())\n",
    "#capa \"normal\"\n",
    "#añade una capa que crea 256 neuronas\n",
    "cnn.add(Dense(256,activation='relu'))\n",
    "#Durante el entrenamiento apagar el 50% de las neuronas cada paso\n",
    "cnn.add(Dropout(0.5))\n",
    "#ultima capa\n",
    "#Darnos el porcentaje de aproximacion en parentezco de cada animal con softmax\n",
    "cnn.add(Dense(clases, activation='softmax'))\n",
    "\n",
    "#los parametros que vamos a usar para optimizar el algoritmo\n",
    "cnn.compile(loss='categorical_crossentropy', optimizer=optimizers.Adam(lr=lr), metrics=['accuracy'])\n",
    "\n",
    "#entrenar la red\n",
    "cnn.fit(entrenamiento_generador, steps_per_epoch=pasos//batch_size, \n",
    "        epochs=epocas, validation_data=validacion_generador, \n",
    "        validation_steps=pasos_validacion//batch_size)"
   ]
  },
  {
   "cell_type": "markdown",
   "id": "following-dance",
   "metadata": {},
   "source": [
    "## Guardar el modelo de entrenamiento"
   ]
  },
  {
   "cell_type": "code",
   "execution_count": 5,
   "id": "recorded-tuition",
   "metadata": {},
   "outputs": [],
   "source": [
    "target_dir = './modelo/'\n",
    "\n",
    "if not os.path.exists(target_dir):\n",
    "  os.mkdir(target_dir)\n",
    "cnn.save('./modelo/modelo.h5')\n",
    "cnn.save_weights('./modelo/pesos.h5')"
   ]
  }
 ],
 "metadata": {
  "kernelspec": {
   "display_name": "Python 3",
   "language": "python",
   "name": "python3"
  },
  "language_info": {
   "codemirror_mode": {
    "name": "ipython",
    "version": 3
   },
   "file_extension": ".py",
   "mimetype": "text/x-python",
   "name": "python",
   "nbconvert_exporter": "python",
   "pygments_lexer": "ipython3",
   "version": "3.8.8"
  }
 },
 "nbformat": 4,
 "nbformat_minor": 5
}
